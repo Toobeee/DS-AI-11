{
  "nbformat": 4,
  "nbformat_minor": 0,
  "metadata": {
    "colab": {
      "provenance": [],
      "collapsed_sections": [
        "haPGJvZIV-Kh"
      ]
    },
    "kernelspec": {
      "name": "python3",
      "display_name": "Python 3"
    },
    "language_info": {
      "name": "python"
    }
  },
  "cells": [
    {
      "cell_type": "markdown",
      "source": [
        "# **Problem 1**"
      ],
      "metadata": {
        "id": "8U1R5fF8WFV7"
      }
    },
    {
      "cell_type": "markdown",
      "source": [
        "Given a list of integers, return the largest difference between any two elements, where the larger element appears after the smaller one. If no such pair exists, return 0."
      ],
      "metadata": {
        "id": "-4ipVWZHXqeY"
      }
    },
    {
      "cell_type": "code",
      "source": [
        "#\n",
        "\n",
        "def max_difference(arr):\n",
        "    max_diff = 0  # This will store the largest difference we find\n",
        "\n",
        "    for i in range(len(arr)):# 'i' is the index of the first number\n",
        "        for j in range(i + 1, len(arr)):  #'j' is the index of the second number\n",
        "            if arr[j] > arr[i]:\n",
        "                diff = arr[j] - arr[i]\n",
        "                if diff > max_diff:\n",
        "                    max_diff = diff\n",
        "\n",
        "    return max_diff\n",
        "\n",
        "\n",
        "numbers = [1, 2, 90, 10, 110]\n",
        "result = max_difference(numbers)\n",
        "print(\"Largest difference:\", result)"
      ],
      "metadata": {
        "id": "Q67jY7B2WHuv",
        "outputId": "04174f7a-876b-48b6-91f1-6c618b89523c",
        "colab": {
          "base_uri": "https://localhost:8080/"
        }
      },
      "execution_count": null,
      "outputs": [
        {
          "output_type": "stream",
          "name": "stdout",
          "text": [
            "Largest difference: 109\n"
          ]
        }
      ]
    },
    {
      "cell_type": "markdown",
      "source": [
        "# **Problem 2**"
      ],
      "metadata": {
        "id": "vDgg72ARWDjM"
      }
    },
    {
      "cell_type": "markdown",
      "source": [
        "Given a string, return the first non-repeating character. If there are no non-repeating characters, return None."
      ],
      "metadata": {
        "id": "f535qP51XyEa"
      }
    },
    {
      "cell_type": "code",
      "source": [
        "\n",
        "def first_non_repeating_char(s):\n",
        "    for char in s:\n",
        "        if s.count(char) == 1:  # Checking if this character appears only once\n",
        "            return char\n",
        "    return None  # If no non-repeating character found\n",
        "\n",
        "print(first_non_repeating_char(\"aabcc\"))  # Output: 'b'"
      ],
      "metadata": {
        "id": "h92sZ6J2WPIN"
      },
      "execution_count": null,
      "outputs": []
    },
    {
      "cell_type": "markdown",
      "source": [
        "# **Problem 3**"
      ],
      "metadata": {
        "id": "AVg1zKAtV_xI"
      }
    },
    {
      "cell_type": "markdown",
      "source": [
        "Given two strings, write a function to check if one is a permutation of the other. Return True if they are permutations, False otherwise."
      ],
      "metadata": {
        "id": "dCUtFad9X1Zi"
      }
    },
    {
      "cell_type": "code",
      "source": [
        "\n",
        "\n",
        "def are_permutations(s1, s2):\n",
        "    # If the lengths are different, they can't be permutations\n",
        "    if len(s1) != len(s2):\n",
        "        return False\n",
        "\n",
        "    # Sort both strings and compare\n",
        "    return sorted(s1) == sorted(s2)\n",
        "\n",
        "\n",
        "print(are_permutations(\"abc\", \"bca\"))     # True"
      ],
      "metadata": {
        "id": "0JCr9tpMWPjJ"
      },
      "execution_count": null,
      "outputs": []
    },
    {
      "cell_type": "markdown",
      "source": [
        "# **Problem 4**"
      ],
      "metadata": {
        "id": "haPGJvZIV-Kh"
      }
    },
    {
      "cell_type": "markdown",
      "source": [
        "Given a list of integers, return the second largest unique number. If no second largest unique number exists, return None."
      ],
      "metadata": {
        "id": "QYLMOGMkX4d4"
      }
    },
    {
      "cell_type": "code",
      "source": [
        "\n",
        "def second_largest_unique(nums):\n",
        "    unique_nums = list(set(nums))  # removeing duplicates\n",
        "    if len(unique_nums) < 2:\n",
        "        return None  # no second largest if less than 2 unique numbers\n",
        "\n",
        "    unique_nums.sort(reverse=True)  # it will sort in descending order\n",
        "    return unique_nums[1]  # second largest is at index 1\n",
        "\n",
        "\n",
        "print(second_largest_unique([4, 5, 6, 6, 7]))     # Output: 6"
      ],
      "metadata": {
        "id": "poJwFI83WP-1"
      },
      "execution_count": null,
      "outputs": []
    },
    {
      "cell_type": "markdown",
      "source": [
        "# **Problem 5**"
      ],
      "metadata": {
        "id": "Swn_OynoV8PA"
      }
    },
    {
      "cell_type": "code",
      "source": [
        "def count_distinct_pairs(nums, target):\n",
        "    seen = set()   #set of numbers we've already seen\n",
        "    pairs = set()  #set of unique pairs /answers\n",
        "\n",
        "    for num in nums:\n",
        "        complement = target - num   #number we need to form the target sum\n",
        "        if complement in seen:\n",
        "            pairs.add(tuple(sorted((num, complement))))  #sort to avoid duplicates\n",
        "        seen.add(num)  # mark num as seen\n",
        "\n",
        "    return len(pairs)\n",
        "\n",
        "nums = [1,2,3,4,5,6]\n",
        "target = 6\n",
        "print(count_distinct_pairs(nums, target))"
      ],
      "metadata": {
        "id": "RSSqHZVfWQhm"
      },
      "execution_count": null,
      "outputs": []
    },
    {
      "cell_type": "markdown",
      "source": [
        "# **Problem 6**"
      ],
      "metadata": {
        "id": "IApGwSGOV4Oo"
      }
    },
    {
      "cell_type": "code",
      "source": [
        "def remove_duplicates(lst):\n",
        "    seen = set()   #stores those which are seen\n",
        "    result = []\n",
        "    for num in lst:\n",
        "        if num not in seen:  #track if exists in seen, dont add to result\n",
        "            seen.add(num)\n",
        "            result.append(num)\n",
        "    return result\n",
        "\n",
        "input_list = [1, 2, 2, 3, 7, 9, 9, 4, 5, 1]\n",
        "print(remove_duplicates(input_list))\n"
      ],
      "metadata": {
        "id": "mENTu2JLWQ_m"
      },
      "execution_count": null,
      "outputs": []
    },
    {
      "cell_type": "markdown",
      "source": [
        "# **Problem 7**"
      ],
      "metadata": {
        "id": "VZjQHsgxU1az"
      }
    },
    {
      "cell_type": "code",
      "source": [
        "def subsets(nums):\n",
        "    result = []\n",
        "\n",
        "    def backtrack(start, path):\n",
        "        result.append(path[:])  #copy of the current subset\n",
        "        for i in range(start, len(nums)):\n",
        "            path.append(nums[i])\n",
        "            backtrack(i + 1, path)      #recurse for next elements\n",
        "            path.pop()                  #backtrack\n",
        "\n",
        "    backtrack(0, [])\n",
        "    return result\n",
        "\n",
        "\n",
        "nums = [1, 2, 3]\n",
        "print(subsets(nums))"
      ],
      "metadata": {
        "id": "5xCp1YykU9jX"
      },
      "execution_count": null,
      "outputs": []
    },
    {
      "cell_type": "markdown",
      "source": [
        "# **Problem 8**"
      ],
      "metadata": {
        "id": "JFpPanjqUxsl"
      }
    },
    {
      "cell_type": "code",
      "source": [
        "def length_of_lis(nums):\n",
        "    if not nums:  #if list is empty\n",
        "        return 0\n",
        "\n",
        "    n = len(nums)  #length storng\n",
        "    dp = [1] * n   # dp[i] will store the length of the LIS ending at index i\n",
        "\n",
        "    for i in range(1, n):\n",
        "        #compare the current element nums[i] with all previous elements\n",
        "        for j in range(i):\n",
        "            if nums[i] > nums[j]:\n",
        "                dp[i] = max(dp[i], dp[j] + 1)  #update with longest sequence\n",
        "\n",
        "    return max(dp)  #length of the longest increasing subsequence\n",
        "\n",
        "\n",
        "nums = [10, 9, 2, 5, 3, 7, 101, 18]\n",
        "print(length_of_lis(nums))"
      ],
      "metadata": {
        "id": "TNyTPkiLU8RU"
      },
      "execution_count": null,
      "outputs": []
    },
    {
      "cell_type": "markdown",
      "source": [
        "# **Problem 9**"
      ],
      "metadata": {
        "id": "fD1rGEqwUV6Q"
      }
    },
    {
      "cell_type": "code",
      "source": [
        "def max_product(nums):\n",
        "    nums.sort() #this will sort the list by ascending order\n",
        "    return max(nums[0] * nums[1], nums[-1] * nums[-2]) #this will produce two products considering negative values. so if two values are negative, there product might be largest.\n",
        "#max will give the max of two products calculated\n",
        "i =[1, 10, -5, 1, 100,]\n",
        "\n",
        "print(max_product(i))"
      ],
      "metadata": {
        "id": "q67zqpJjUglO"
      },
      "execution_count": null,
      "outputs": []
    },
    {
      "cell_type": "markdown",
      "source": [
        "# **Problem 10**"
      ],
      "metadata": {
        "id": "61iouBH7VqRd"
      }
    },
    {
      "cell_type": "code",
      "source": [
        "def most_frequent_char(s):\n",
        "    char_counts = {} # function that loops and checks for char count\n",
        "    for char in s:\n",
        "        char_counts[char] = char_counts.get(char, 0) + 1\n",
        "\n",
        "    max_count = 0\n",
        "    most_frequent = '' #keep track of most frequent\n",
        "\n",
        "    for char, count in char_counts.items(): # this will update most frequent\n",
        "        if count > max_count:\n",
        "            max_count = count\n",
        "            most_frequent = char\n",
        "        elif count == max_count and char < most_frequent: #this will pick character that comes first alphabetically\n",
        "            most_frequent = char\n",
        "\n",
        "    return most_frequent\n",
        "\n",
        "i = \"aabbbc\"\n",
        "print(most_frequent_char(i))"
      ],
      "metadata": {
        "id": "Gz6vGEiLVuLp"
      },
      "execution_count": null,
      "outputs": []
    },
    {
      "cell_type": "markdown",
      "source": [
        "# **Problem 11**"
      ],
      "metadata": {
        "id": "Qs597kAzVvuh"
      }
    },
    {
      "cell_type": "code",
      "source": [
        "def print_primes(n):\n",
        "\n",
        "    if n <= 1:#no prime numbers to print\n",
        "        return\n",
        "\n",
        "    primes = []\n",
        "    for num in range(2, n):#staring from 2 upto n-1\n",
        "        is_prime = True\n",
        "        for i in range(2, int(num**0.5) + 1):\n",
        "            if num % i == 0:# if this condition met then not prime\n",
        "                is_prime = False\n",
        "                break\n",
        "        if is_prime:#if condition met then append to list\n",
        "            primes.append(num)\n",
        "\n",
        "    print(*primes)\n",
        "i = 10\n",
        "print_primes(i)"
      ],
      "metadata": {
        "id": "WAXdo2tQWS7H"
      },
      "execution_count": null,
      "outputs": []
    },
    {
      "cell_type": "markdown",
      "source": [
        "# **Problem 12**"
      ],
      "metadata": {
        "id": "16UdMrDzVy1w"
      }
    },
    {
      "cell_type": "code",
      "source": [
        "def sum_numbers(*args):\n",
        "  total = 0\n",
        "  for num in args:#for every argument in input\n",
        "    total += num #add to total\n",
        "  return total\n",
        "\n",
        "i = (2,3,4)\n",
        "print(sum_numbers(*i))"
      ],
      "metadata": {
        "id": "HB9h5WZPWTZG"
      },
      "execution_count": null,
      "outputs": []
    },
    {
      "cell_type": "markdown",
      "source": [
        "# **Problem 13**\n",
        "\n",
        "Given a dictionary of students' names and their scores, write a function that returns the name of the student with the highest score.\n",
        "\n"
      ],
      "metadata": {
        "id": "rHxxfshiRigf"
      }
    },
    {
      "cell_type": "code",
      "source": [
        "def top_student(scores):\n",
        "    \"\"\"Return the name of the student with the highest score.\"\"\"\n",
        "    return max(scores, key=scores.get) #--Function ends\n",
        "\n",
        "\n",
        "students = {\"Ali\": 85, \"Sara\": 92, \"Hassan\": 78, \"Iqbal\":95}\n",
        "print(top_student(students))"
      ],
      "metadata": {
        "colab": {
          "base_uri": "https://localhost:8080/"
        },
        "id": "ewcpGIgLRm1-",
        "outputId": "4c973394-fd78-4ea4-9621-264a83df5954"
      },
      "execution_count": null,
      "outputs": [
        {
          "output_type": "stream",
          "name": "stdout",
          "text": [
            "Sara\n"
          ]
        }
      ]
    },
    {
      "cell_type": "markdown",
      "source": [
        "# **Problem 14**"
      ],
      "metadata": {
        "id": "RBDxmorVVZDS"
      }
    },
    {
      "cell_type": "code",
      "source": [
        "def function(list1, function):\n",
        "    return list(map(function, list1))\n",
        "\n",
        "\n",
        "numbers = [1, 2, 3, 4]\n",
        "squared_list = function(numbers, lambda x: x ** 2)\n",
        "print(squared_list)"
      ],
      "metadata": {
        "id": "u4kEVmqIVkv4"
      },
      "execution_count": null,
      "outputs": []
    },
    {
      "cell_type": "markdown",
      "source": [
        "# **Problem 15**"
      ],
      "metadata": {
        "id": "iJQdU0zYVl0x"
      }
    },
    {
      "cell_type": "code",
      "source": [
        "def sumproduct(*args, operation='sum'):\n",
        "    if operation == 'multiply':\n",
        "        result = 1\n",
        "        for num in args:\n",
        "            result *= num\n",
        "        return result\n",
        "    else:\n",
        "        return sum(args)\n",
        "\n",
        "print(sumproduct(1, 2, 3, 4))\n",
        "print(sumproduct(1, 2, 3, 4, operation='multiply'))"
      ],
      "metadata": {
        "id": "MifTgB2bVoi1"
      },
      "execution_count": null,
      "outputs": []
    }
  ]
}